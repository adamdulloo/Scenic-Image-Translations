{
 "cells": [
  {
   "cell_type": "code",
   "execution_count": 1,
   "metadata": {},
   "outputs": [],
   "source": [
    "from IPython.display import Image, display, clear_output\n",
    "import glob\n",
    "import time"
   ]
  },
  {
   "cell_type": "markdown",
   "metadata": {},
   "source": [
    "# Purpose of this program:\n",
    "\n",
    "This code generates a txt file for the filenames of the accepted day images and night images. \\\n",
    "Each team member was allocated 1/3 of the images and then ran this code to filter the images. \\\n",
    "The txt files were then combined and the associated images were compiled into a final dataset."
   ]
  },
  {
   "cell_type": "markdown",
   "metadata": {},
   "source": [
    "# Filter Daytime Images\n",
    "\n"
   ]
  },
  {
   "cell_type": "code",
   "execution_count": 2,
   "metadata": {},
   "outputs": [
    {
     "name": "stdout",
     "output_type": "stream",
     "text": [
      "All Done!\n"
     ]
    }
   ],
   "source": [
    "day_accepted_file = open(\"day_accepted.txt\", \"r\")\n",
    "day_denied_file = open(\"day_denied.txt\", \"r\")\n",
    "\n",
    "day_accepted = set([ i.strip() for i in day_accepted_file.readlines()])\n",
    "day_denied = set([ i.strip() for i in day_denied_file.readlines()])\n",
    "\n",
    "day_accepted_file.close()\n",
    "day_denied_file.close()\n",
    "\n",
    "day_all_seen = day_accepted.union(day_denied)\n",
    "\n",
    "day_all_images = set(glob.glob(\"./day/*\"))\n",
    "\n",
    "day_unseen_images = day_all_images - day_all_seen\n",
    "\n",
    "day_accepted_file = open(\"day_accepted.txt\", \"a\")\n",
    "day_denied_file = open(\"day_denied.txt\", \"a\")\n",
    "\n",
    "for img in list(day_unseen_images):\n",
    "    clear_output(wait=True)\n",
    "    display(Image(img))\n",
    "    time.sleep(0.1)\n",
    "    val = input(\"'a' for accept, 'd' for deny, 'p' to pause\")\n",
    "    \n",
    "    while not (val in ['a', 'd', 'p']):\n",
    "        val = input(\"'a' for accept, 'd' for deny, 'p' to pause\")\n",
    "    \n",
    "    #save choice to file\n",
    "    \n",
    "    if val == 'a':\n",
    "        day_accepted_file.write(img+\"\\n\")\n",
    "    elif val == 'd':\n",
    "        day_denied_file.write(img+\"\\n\")\n",
    "    elif val == 'p':\n",
    "        day_accepted_file.close()\n",
    "        day_denied_file.close()\n",
    "        clear_output(wait=False)\n",
    "        print(\"Nicely done!\")\n",
    "        break\n",
    "\n",
    "if not val == 'p':\n",
    "    day_accepted_file.close()\n",
    "    day_denied_file.close()\n",
    "    clear_output(wait=False)\n",
    "    print(\"All Done!\")"
   ]
  },
  {
   "cell_type": "markdown",
   "metadata": {},
   "source": [
    "# Filter Nighttime Images"
   ]
  },
  {
   "cell_type": "code",
   "execution_count": 3,
   "metadata": {},
   "outputs": [
    {
     "name": "stdout",
     "output_type": "stream",
     "text": [
      "All Done!\n"
     ]
    }
   ],
   "source": [
    "night_accepted_file = open(\"night_accepted.txt\", \"r\")\n",
    "night_denied_file = open(\"night_denied.txt\", \"r\")\n",
    "\n",
    "night_accepted = set([ i.strip() for i in night_accepted_file.readlines()])\n",
    "night_denied = set([ i.strip() for i in night_denied_file.readlines()])\n",
    "\n",
    "night_accepted_file.close()\n",
    "night_denied_file.close()\n",
    "\n",
    "night_all_seen = night_accepted.union(night_denied)\n",
    "\n",
    "night_all_images = set(glob.glob(\"./night/*\"))\n",
    "\n",
    "night_unseen_images = night_all_images - night_all_seen\n",
    "\n",
    "night_accepted_file = open(\"night_accepted.txt\", \"a\")\n",
    "night_denied_file = open(\"night_denied.txt\", \"a\")\n",
    "\n",
    "for img in list(night_unseen_images):\n",
    "    clear_output(wait=True)\n",
    "    display(Image(img))\n",
    "    time.sleep(0.1)\n",
    "    val = input(\"'a' for accept, 'd' for deny, 'p' to pause\")\n",
    "    \n",
    "    while not (val in ['a', 'd', 'p']):\n",
    "        val = input(\"'a' for accept, 'd' for deny, 'p' to pause\")\n",
    "    \n",
    "    #save choice to file\n",
    "    \n",
    "    if val == 'a':\n",
    "        night_accepted_file.write(img+\"\\n\")\n",
    "    elif val == 'd':\n",
    "        night_denied_file.write(img+\"\\n\")\n",
    "    elif val == 'p':\n",
    "        night_accepted_file.close()\n",
    "        night_denied_file.close()\n",
    "        clear_output(wait=False)\n",
    "        print(\"Nicely done!\")\n",
    "        break\n",
    "        \n",
    "if not val=='p':\n",
    "    night_accepted_file.close()\n",
    "    night_denied_file.close()\n",
    "    clear_output(wait=False)\n",
    "    print(\"All Done!\")"
   ]
  }
 ],
 "metadata": {
  "kernelspec": {
   "display_name": "Python 3",
   "language": "python",
   "name": "python3"
  },
  "language_info": {
   "codemirror_mode": {
    "name": "ipython",
    "version": 3
   },
   "file_extension": ".py",
   "mimetype": "text/x-python",
   "name": "python",
   "nbconvert_exporter": "python",
   "pygments_lexer": "ipython3",
   "version": "3.7.7"
  }
 },
 "nbformat": 4,
 "nbformat_minor": 4
}
